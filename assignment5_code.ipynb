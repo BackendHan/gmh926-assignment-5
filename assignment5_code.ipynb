{
  "cells": [
    {
      "cell_type": "code",
      "execution_count": null,
      "metadata": {
        "id": "3PD0Io_SWNej"
      },
      "outputs": [],
      "source": [
        "import numpy as np\n",
        "import pandas as pd"
      ]
    },
    {
      "cell_type": "code",
      "execution_count": 30,
      "metadata": {
        "id": "8lRnatp0WNej"
      },
      "outputs": [],
      "source": [
        "# 定义 KNN 类\n",
        "import numpy as np\n",
        "\n",
        "class KNN:\n",
        "    def __init__(self, k=3, distance_metric='euclidean'):\n",
        "        self.k = k\n",
        "        self.distance_metric = distance_metric\n",
        "\n",
        "    def fit(self, X, y):\n",
        "        # 存储训练数据\n",
        "        self.X_train = X\n",
        "        self.y_train = y\n",
        "\n",
        "    def predict(self, X):\n",
        "        # 对每个测试样本进行预测\n",
        "        y_pred = []\n",
        "        for x in X:\n",
        "            # 计算与训练数据的距离\n",
        "            distances = self.compute_distance(self.X_train, x)\n",
        "            # 获取距离最近的k个邻居的索引\n",
        "            k_indices = distances.argsort()[:self.k]\n",
        "            # 获取k个邻居的标签\n",
        "            k_nearest_labels = self.y_train[k_indices]\n",
        "            # 多数投票决定预测标签\n",
        "            labels, counts = np.unique(k_nearest_labels, return_counts=True)\n",
        "            majority_label = labels[counts.argmax()]\n",
        "            y_pred.append(majority_label)\n",
        "        return np.array(y_pred)\n",
        "\n",
        "    def predict_proba(self, X):\n",
        "        # 预测每个测试样本属于每个类别的概率\n",
        "        proba = []\n",
        "        for x in X:\n",
        "            distances = self.compute_distance(self.X_train, x)\n",
        "            k_indices = distances.argsort()[:self.k]\n",
        "            k_nearest_labels = self.y_train[k_indices]\n",
        "            # 计算每个类别的概率\n",
        "            class_counts = np.bincount(k_nearest_labels, minlength=2)\n",
        "            class_proba = class_counts / self.k\n",
        "            proba.append(class_proba)\n",
        "        return np.array(proba)\n",
        "\n",
        "    def compute_distance(self, X1, x2):\n",
        "        # 根据距离度量计算距离\n",
        "        if self.distance_metric == 'euclidean':\n",
        "            # 欧氏距离\n",
        "            distances = np.sqrt(np.sum((X1 - x2) ** 2, axis=1))\n",
        "        elif self.distance_metric == 'manhattan':\n",
        "            # 曼哈顿距离\n",
        "            distances = np.sum(np.abs(X1 - x2), axis=1)\n",
        "        else:\n",
        "            raise ValueError(\"不支持的距离度量\")\n",
        "        return distances\n"
      ]
    },
    {
      "cell_type": "code",
      "execution_count": 31,
      "metadata": {
        "id": "OmhbjmuGWNek"
      },
      "outputs": [],
      "source": [
        "# 定义数据预处理函数\n",
        "import pandas as pd\n",
        "from sklearn.preprocessing import StandardScaler\n",
        "\n",
        "def preprocess_data(train_path, test_path, sample_submission_path):\n",
        "    train_data = pd.read_csv(train_path)\n",
        "    test_data = pd.read_csv(test_path)\n",
        "    submission_example = pd.read_csv(sample_submission_path)\n",
        "\n",
        "    # 使用 sample_submission.csv 中的 'id' 作为测试集的 id\n",
        "    test_ids = submission_example['id']\n",
        "\n",
        "    # 合并训练和测试数据以便统一处理，重置索引以防止索引混乱\n",
        "    data = pd.concat([train_data, test_data], sort=False).reset_index(drop=True)\n",
        "\n",
        "    # 删除不必要的列\n",
        "    data.drop(['RowNumber', 'CustomerId', 'Surname', 'id'], axis=1, inplace=True, errors='ignore')\n",
        "\n",
        "    # 处理分类变量\n",
        "    categorical_features = ['Geography', 'Gender']\n",
        "    data = pd.get_dummies(data, columns=categorical_features)\n",
        "\n",
        "    # 归一化数值特征\n",
        "    scaler = StandardScaler()\n",
        "    numeric_features = [col for col in data.columns if col != 'Exited']\n",
        "    data[numeric_features] = scaler.fit_transform(data[numeric_features])\n",
        "\n",
        "    # 分割回训练和测试数据\n",
        "    train_data_processed = data.iloc[:len(train_data)].reset_index(drop=True)\n",
        "    test_data_processed = data.iloc[len(train_data):].reset_index(drop=True)\n",
        "\n",
        "    # 提取特征和标签\n",
        "    X_train = train_data_processed.drop('Exited', axis=1).values\n",
        "    y_train = train_data_processed['Exited'].values.astype(int)\n",
        "\n",
        "    X_test = test_data_processed.drop('Exited', axis=1).values\n",
        "\n",
        "    return X_train, y_train, X_test, test_ids\n"
      ]
    },
    {
      "cell_type": "code",
      "execution_count": 32,
      "metadata": {
        "id": "_yXpZxDFWNek"
      },
      "outputs": [],
      "source": [
        "# 定义交叉验证函数\n",
        "from sklearn.model_selection import KFold\n",
        "from sklearn.metrics import roc_auc_score\n",
        "\n",
        "def cross_validate(X, y, knn, n_splits=5):\n",
        "    kf = KFold(n_splits=n_splits, shuffle=True, random_state=42)\n",
        "    auc_scores = []\n",
        "\n",
        "    for train_index, val_index in kf.split(X):\n",
        "        X_train_fold, X_val_fold = X[train_index], X[val_index]\n",
        "        y_train_fold, y_val_fold = y[train_index], y[val_index]\n",
        "\n",
        "        # 训练模型\n",
        "        knn.fit(X_train_fold, y_train_fold)\n",
        "        # 预测概率\n",
        "        y_val_proba = knn.predict_proba(X_val_fold)\n",
        "        # 获取正类的概率（Exited为1的概率）\n",
        "        y_scores = y_val_proba[:, 1]\n",
        "        # 计算ROC AUC分数\n",
        "        auc = roc_auc_score(y_val_fold, y_scores)\n",
        "        auc_scores.append(auc)\n",
        "\n",
        "    return auc_scores\n"
      ]
    },
    {
      "cell_type": "code",
      "execution_count": 33,
      "metadata": {
        "colab": {
          "base_uri": "https://localhost:8080/"
        },
        "id": "-Ni3Q6ygWNel",
        "outputId": "e67a497e-8dfd-4a6e-81bd-f0f6e0677a78"
      },
      "outputs": [
        {
          "output_type": "stream",
          "name": "stdout",
          "text": [
            "k=3, metric=euclidean, AUC=0.8460492466705866\n",
            "k=3, metric=manhattan, AUC=0.8480913593783352\n",
            "k=5, metric=euclidean, AUC=0.8707493860020747\n",
            "k=5, metric=manhattan, AUC=0.8733774498677722\n",
            "k=7, metric=euclidean, AUC=0.8828354664536786\n",
            "k=7, metric=manhattan, AUC=0.8844340728234339\n",
            "k=9, metric=euclidean, AUC=0.8888759509883297\n",
            "k=9, metric=manhattan, AUC=0.8888079130091873\n",
            "最佳超参数：k=9, metric=euclidean, AUC=0.8888759509883297\n"
          ]
        }
      ],
      "source": [
        "# 加载和预处理数据\n",
        "import numpy as np\n",
        "\n",
        "X, y, X_test, test_ids = preprocess_data('train.csv', 'test.csv', 'sample_submission.csv')\n",
        "\n",
        "# 定义超参数网格\n",
        "k_values = [3, 5, 7, 9]\n",
        "distance_metrics = ['euclidean', 'manhattan']\n",
        "\n",
        "best_auc = 0\n",
        "best_k = None\n",
        "best_metric = None\n",
        "\n",
        "# 超参数调优\n",
        "for k in k_values:\n",
        "    for metric in distance_metrics:\n",
        "        knn = KNN(k=k, distance_metric=metric)\n",
        "        cv_scores = cross_validate(X, y, knn, n_splits=5)\n",
        "        mean_auc = np.mean(cv_scores)\n",
        "        print(f\"k={k}, metric={metric}, AUC={mean_auc}\")\n",
        "        if mean_auc > best_auc:\n",
        "            best_auc = mean_auc\n",
        "            best_k = k\n",
        "            best_metric = metric\n",
        "\n",
        "print(f\"最佳超参数：k={best_k}, metric={best_metric}, AUC={best_auc}\")\n",
        "\n",
        "# 使用最佳超参数在整个训练集上训练模型\n",
        "knn = KNN(k=best_k, distance_metric=best_metric)\n",
        "knn.fit(X, y)\n",
        "# 预测测试集的概率\n",
        "test_proba = knn.predict_proba(X_test)\n",
        "# 获取正类的概率（Exited为1的概率）\n",
        "test_predictions = test_proba[:, 1]\n",
        "\n",
        "# 保存测试集预测结果\n",
        "submission = pd.DataFrame({'id': test_ids, 'Exited': test_predictions})\n",
        "submission.to_csv('submissions.csv', index=False)\n"
      ]
    }
  ],
  "metadata": {
    "kernelspec": {
      "display_name": "cs506",
      "language": "python",
      "name": "python3"
    },
    "language_info": {
      "codemirror_mode": {
        "name": "ipython",
        "version": 3
      },
      "file_extension": ".py",
      "mimetype": "text/x-python",
      "name": "python",
      "nbconvert_exporter": "python",
      "pygments_lexer": "ipython3",
      "version": "3.10.15"
    },
    "colab": {
      "provenance": []
    }
  },
  "nbformat": 4,
  "nbformat_minor": 0
}